{
 "cells": [
  {
   "cell_type": "markdown",
   "metadata": {
    "id": "sVxeQki8vRXz"
   },
   "source": [
    "# **Guía 2**\n",
    "\n",
    "Objetivo: aplicar los conceptos de Pandas en la manipulación y análisis de datos estructurados. Se trabajará con Series y DataFrames, aplicando técnicas de acceso, selección, filtrado y agregación de datos.\n",
    "\n",
    "### **Caso de Negocio: Análisis de Deserción de Clientes en una Empresa de Telecomunicaciones**\n",
    "\n",
    "**Contexto**\n",
    "\n",
    "En la industria de las telecomunicaciones, la retención de clientes es un factor crítico para la sostenibilidad del negocio. La competencia es feroz y adquirir nuevos clientes suele ser más costoso que mantener a los actuales. En este análisis, exploraremos un conjunto de datos que contiene información detallada sobre clientes que han abandonado el servicio (churn) y aquellos que permanecen activos.\n",
    "\n",
    "Nuestro objetivo es identificar los factores clave que influyen en la deserción, comprender patrones de comportamiento y generar estrategias efectivas para reducir la tasa de abandono.\n",
    "\n",
    "La empresa ha experimentado un aumento en la tasa de deserción de clientes, lo que ha provocado:\n",
    "- Pérdida de ingresos recurrentes.\n",
    "- Incremento en los costos de adquisición de nuevos clientes.\n",
    "- Menor estabilidad en la base de clientes a largo plazo.\n",
    "\n",
    "Para abordar esta problemática, es crucial identificar las razones detrás de la deserción y desarrollar estrategias para mejorar la retención de clientes.\n",
    "\n"
   ]
  },
  {
   "cell_type": "markdown",
   "metadata": {
    "id": "TBsud25XSR0w"
   },
   "source": [
    "**Entrega del Trabajo**\n",
    "\n",
    "Los estudiantes deben trabajar en grupos de entre 2 y 4 personas. Cada grupo deberá subir su trabajo a un repositorio de GitHub, asegurándose de que el código y los archivos necesarios estén bien organizados y documentados. Posteriormente, deberán enviar el enlace del repositorio en la plataforma Canvas para su evaluación.\n",
    "\n",
    "Instrucciones para la entrega:\n",
    "\n",
    "Crear un repositorio en GitHub con un nombre descriptivo para el proyecto.\n",
    "\n",
    "Subir el código en Jupyter Notebook (.ipynb) o en formato Python (.py).\n",
    "\n",
    "Incluir un archivo README.md con una breve descripción del trabajo y las instrucciones de ejecución.\n",
    "\n",
    "Compartir el enlace del repositorio en Canvas dentro del plazo establecido.\n",
    "\n"
   ]
  },
  {
   "cell_type": "markdown",
   "metadata": {
    "id": "R1eyqBGSScta"
   },
   "source": [
    "**Descripción de las variables del dataset telecom_churn**\n",
    "\n",
    "El dataset telecom_churn contiene información detallada sobre clientes de una empresa de telecomunicaciones, incluyendo datos generales, planes contratados, uso del servicio telefónico y llamadas al servicio al cliente. Su propósito principal es analizar patrones de deserción de clientes, identificados a través de la variable churn, que indica si un cliente ha abandonado la empresa (1) o sigue siendo cliente (0).\n",
    "\n",
    "Dentro del dataset, encontramos información general como el estado (state) donde reside el cliente, el código de área (area code), y el número de teléfono (phone number), aunque esta última variable no aporta información útil para el análisis, ya que es un identificador único.\n",
    "\n",
    "Además, el dataset registra el tiempo que un cliente ha estado en la empresa a través de la variable account length, lo que puede ayudar a analizar si la duración del contrato influye en la deserción. También se incluyen detalles sobre los planes contratados, como si el cliente tiene un plan internacional (international plan), que le permite realizar llamadas internacionales, o un buzón de voz (voice mail plan), que le permite recibir mensajes de voz.\n",
    "\n",
    "En cuanto al uso del servicio, se registran datos detallados sobre el tiempo en llamadas y los costos asociados. Se divide en tres períodos del día: diurno (total day minutes, total day calls, total day charge), vespertino (total eve minutes, total eve calls, total eve charge) y nocturno (total night minutes, total night calls, total night charge), lo que permite evaluar si hay patrones de consumo que influyen en la deserción. También se incluye información sobre el uso del servicio internacional, con variables como total intl minutes (minutos en llamadas internacionales), total intl calls (cantidad de llamadas internacionales) y total intl charge (costos por llamadas internacionales).\n",
    "\n",
    "Otro aspecto clave del dataset es el número de llamadas al servicio al cliente (customer service calls), ya que una mayor cantidad de llamadas puede indicar insatisfacción y estar relacionada con la decisión del cliente de abandonar la empresa.\n",
    "\n",
    "Finalmente, la variable más importante del análisis es churn, que indica si un cliente ha desertado de la empresa. A partir de esta variable, podemos analizar qué factores influyen en la deserción y encontrar patrones en los clientes que tienen mayor probabilidad de abandonar el servicio.\n"
   ]
  },
  {
   "cell_type": "markdown",
   "metadata": {
    "id": "-gqRGJ8yFs5Y"
   },
   "source": [
    "**Exploración y Limpieza de Datos**\n",
    "\n",
    "Cargar y explorar el dataset\n",
    "\n",
    "Importa Pandas y carga el dataset telecom_churn.csv en un DataFrame.\n",
    "\n",
    "Muestra las primeras 5 filas del DataFrame.\n",
    "\n",
    "Verifica cuántas filas y columnas tiene el dataset.\n",
    "\n",
    "Muestra información general del dataset, incluyendo los tipos de datos.\n",
    "\n",
    "Identifica si hay valores nulos en alguna columna."
   ]
  },
  {
   "cell_type": "code",
   "execution_count": 18,
   "metadata": {
    "colab": {
     "base_uri": "https://localhost:8080/",
     "height": 259
    },
    "executionInfo": {
     "elapsed": 170,
     "status": "ok",
     "timestamp": 1739886196511,
     "user": {
      "displayName": "Liany Villa Carpio",
      "userId": "04240967063737138547"
     },
     "user_tz": 300
    },
    "id": "wuoyvrE0vQ09",
    "outputId": "7425735d-2bab-43a7-ea4c-78e699bd2ac1"
   },
   "outputs": [
    {
     "data": {
      "text/html": [
       "<div>\n",
       "<style scoped>\n",
       "    .dataframe tbody tr th:only-of-type {\n",
       "        vertical-align: middle;\n",
       "    }\n",
       "\n",
       "    .dataframe tbody tr th {\n",
       "        vertical-align: top;\n",
       "    }\n",
       "\n",
       "    .dataframe thead th {\n",
       "        text-align: right;\n",
       "    }\n",
       "</style>\n",
       "<table border=\"1\" class=\"dataframe\">\n",
       "  <thead>\n",
       "    <tr style=\"text-align: right;\">\n",
       "      <th></th>\n",
       "      <th>state</th>\n",
       "      <th>account length</th>\n",
       "      <th>area code</th>\n",
       "      <th>phone number</th>\n",
       "      <th>international plan</th>\n",
       "      <th>voice mail plan</th>\n",
       "      <th>number vmail messages</th>\n",
       "      <th>total day minutes</th>\n",
       "      <th>total day calls</th>\n",
       "      <th>total day charge</th>\n",
       "      <th>...</th>\n",
       "      <th>total eve calls</th>\n",
       "      <th>total eve charge</th>\n",
       "      <th>total night minutes</th>\n",
       "      <th>total night calls</th>\n",
       "      <th>total night charge</th>\n",
       "      <th>total intl minutes</th>\n",
       "      <th>total intl calls</th>\n",
       "      <th>total intl charge</th>\n",
       "      <th>customer service calls</th>\n",
       "      <th>churn</th>\n",
       "    </tr>\n",
       "  </thead>\n",
       "  <tbody>\n",
       "    <tr>\n",
       "      <th>0</th>\n",
       "      <td>KS</td>\n",
       "      <td>128</td>\n",
       "      <td>415</td>\n",
       "      <td>382-4657</td>\n",
       "      <td>no</td>\n",
       "      <td>yes</td>\n",
       "      <td>25</td>\n",
       "      <td>265.1</td>\n",
       "      <td>110</td>\n",
       "      <td>45.07</td>\n",
       "      <td>...</td>\n",
       "      <td>99</td>\n",
       "      <td>16.78</td>\n",
       "      <td>244.7</td>\n",
       "      <td>91</td>\n",
       "      <td>11.01</td>\n",
       "      <td>10.0</td>\n",
       "      <td>3</td>\n",
       "      <td>2.70</td>\n",
       "      <td>1</td>\n",
       "      <td>False</td>\n",
       "    </tr>\n",
       "    <tr>\n",
       "      <th>1</th>\n",
       "      <td>OH</td>\n",
       "      <td>107</td>\n",
       "      <td>415</td>\n",
       "      <td>371-7191</td>\n",
       "      <td>no</td>\n",
       "      <td>yes</td>\n",
       "      <td>26</td>\n",
       "      <td>161.6</td>\n",
       "      <td>123</td>\n",
       "      <td>27.47</td>\n",
       "      <td>...</td>\n",
       "      <td>103</td>\n",
       "      <td>16.62</td>\n",
       "      <td>254.4</td>\n",
       "      <td>103</td>\n",
       "      <td>11.45</td>\n",
       "      <td>13.7</td>\n",
       "      <td>3</td>\n",
       "      <td>3.70</td>\n",
       "      <td>1</td>\n",
       "      <td>False</td>\n",
       "    </tr>\n",
       "    <tr>\n",
       "      <th>2</th>\n",
       "      <td>NJ</td>\n",
       "      <td>137</td>\n",
       "      <td>415</td>\n",
       "      <td>358-1921</td>\n",
       "      <td>no</td>\n",
       "      <td>no</td>\n",
       "      <td>0</td>\n",
       "      <td>243.4</td>\n",
       "      <td>114</td>\n",
       "      <td>41.38</td>\n",
       "      <td>...</td>\n",
       "      <td>110</td>\n",
       "      <td>10.30</td>\n",
       "      <td>162.6</td>\n",
       "      <td>104</td>\n",
       "      <td>7.32</td>\n",
       "      <td>12.2</td>\n",
       "      <td>5</td>\n",
       "      <td>3.29</td>\n",
       "      <td>0</td>\n",
       "      <td>False</td>\n",
       "    </tr>\n",
       "    <tr>\n",
       "      <th>3</th>\n",
       "      <td>OH</td>\n",
       "      <td>84</td>\n",
       "      <td>408</td>\n",
       "      <td>375-9999</td>\n",
       "      <td>yes</td>\n",
       "      <td>no</td>\n",
       "      <td>0</td>\n",
       "      <td>299.4</td>\n",
       "      <td>71</td>\n",
       "      <td>50.90</td>\n",
       "      <td>...</td>\n",
       "      <td>88</td>\n",
       "      <td>5.26</td>\n",
       "      <td>196.9</td>\n",
       "      <td>89</td>\n",
       "      <td>8.86</td>\n",
       "      <td>6.6</td>\n",
       "      <td>7</td>\n",
       "      <td>1.78</td>\n",
       "      <td>2</td>\n",
       "      <td>False</td>\n",
       "    </tr>\n",
       "    <tr>\n",
       "      <th>4</th>\n",
       "      <td>OK</td>\n",
       "      <td>75</td>\n",
       "      <td>415</td>\n",
       "      <td>330-6626</td>\n",
       "      <td>yes</td>\n",
       "      <td>no</td>\n",
       "      <td>0</td>\n",
       "      <td>166.7</td>\n",
       "      <td>113</td>\n",
       "      <td>28.34</td>\n",
       "      <td>...</td>\n",
       "      <td>122</td>\n",
       "      <td>12.61</td>\n",
       "      <td>186.9</td>\n",
       "      <td>121</td>\n",
       "      <td>8.41</td>\n",
       "      <td>10.1</td>\n",
       "      <td>3</td>\n",
       "      <td>2.73</td>\n",
       "      <td>3</td>\n",
       "      <td>False</td>\n",
       "    </tr>\n",
       "  </tbody>\n",
       "</table>\n",
       "<p>5 rows × 21 columns</p>\n",
       "</div>"
      ],
      "text/plain": [
       "  state  account length  area code phone number international plan  \\\n",
       "0    KS             128        415     382-4657                 no   \n",
       "1    OH             107        415     371-7191                 no   \n",
       "2    NJ             137        415     358-1921                 no   \n",
       "3    OH              84        408     375-9999                yes   \n",
       "4    OK              75        415     330-6626                yes   \n",
       "\n",
       "  voice mail plan  number vmail messages  total day minutes  total day calls  \\\n",
       "0             yes                     25              265.1              110   \n",
       "1             yes                     26              161.6              123   \n",
       "2              no                      0              243.4              114   \n",
       "3              no                      0              299.4               71   \n",
       "4              no                      0              166.7              113   \n",
       "\n",
       "   total day charge  ...  total eve calls  total eve charge  \\\n",
       "0             45.07  ...               99             16.78   \n",
       "1             27.47  ...              103             16.62   \n",
       "2             41.38  ...              110             10.30   \n",
       "3             50.90  ...               88              5.26   \n",
       "4             28.34  ...              122             12.61   \n",
       "\n",
       "   total night minutes  total night calls  total night charge  \\\n",
       "0                244.7                 91               11.01   \n",
       "1                254.4                103               11.45   \n",
       "2                162.6                104                7.32   \n",
       "3                196.9                 89                8.86   \n",
       "4                186.9                121                8.41   \n",
       "\n",
       "   total intl minutes  total intl calls  total intl charge  \\\n",
       "0                10.0                 3               2.70   \n",
       "1                13.7                 3               3.70   \n",
       "2                12.2                 5               3.29   \n",
       "3                 6.6                 7               1.78   \n",
       "4                10.1                 3               2.73   \n",
       "\n",
       "   customer service calls  churn  \n",
       "0                       1  False  \n",
       "1                       1  False  \n",
       "2                       0  False  \n",
       "3                       2  False  \n",
       "4                       3  False  \n",
       "\n",
       "[5 rows x 21 columns]"
      ]
     },
     "execution_count": 18,
     "metadata": {},
     "output_type": "execute_result"
    }
   ],
   "source": [
    "# Solución propuesta\n",
    "\n",
    "#Importar pandas\n",
    "import pandas as pd\n",
    "\n",
    "#Cargar el dataset a un dataframe\n",
    "df = pd.read_csv('telecom_churn.csv')\n",
    "df.head()\n"
   ]
  },
  {
   "cell_type": "code",
   "execution_count": 19,
   "metadata": {
    "colab": {
     "base_uri": "https://localhost:8080/"
    },
    "executionInfo": {
     "elapsed": 210,
     "status": "ok",
     "timestamp": 1739889924885,
     "user": {
      "displayName": "Liany Villa Carpio",
      "userId": "04240967063737138547"
     },
     "user_tz": 300
    },
    "id": "siucoah6SAn-",
    "outputId": "64d2d19b-1d14-4765-c713-7fa37f2ef06d"
   },
   "outputs": [
    {
     "name": "stdout",
     "output_type": "stream",
     "text": [
      "El dataframe tiene 3333 filas y 21 columnas\n"
     ]
    }
   ],
   "source": [
    "#Mostrar el número de filas y columnas\n",
    "print('El dataframe tiene', df.shape[0], 'filas', 'y', df.shape[1], 'columnas')\n"
   ]
  },
  {
   "cell_type": "code",
   "execution_count": 20,
   "metadata": {
    "colab": {
     "base_uri": "https://localhost:8080/"
    },
    "executionInfo": {
     "elapsed": 194,
     "status": "ok",
     "timestamp": 1739890933434,
     "user": {
      "displayName": "Liany Villa Carpio",
      "userId": "04240967063737138547"
     },
     "user_tz": 300
    },
    "id": "kI5z_tKPk5Wg",
    "outputId": "0e5f008e-a9e9-47f0-d3c2-3418744fef09"
   },
   "outputs": [
    {
     "name": "stdout",
     "output_type": "stream",
     "text": [
      "<class 'pandas.core.frame.DataFrame'>\n",
      "RangeIndex: 3333 entries, 0 to 3332\n",
      "Data columns (total 21 columns):\n",
      " #   Column                  Non-Null Count  Dtype  \n",
      "---  ------                  --------------  -----  \n",
      " 0   state                   3333 non-null   object \n",
      " 1   account length          3333 non-null   int64  \n",
      " 2   area code               3333 non-null   int64  \n",
      " 3   phone number            3333 non-null   object \n",
      " 4   international plan      3333 non-null   object \n",
      " 5   voice mail plan         3333 non-null   object \n",
      " 6   number vmail messages   3333 non-null   int64  \n",
      " 7   total day minutes       3333 non-null   float64\n",
      " 8   total day calls         3333 non-null   int64  \n",
      " 9   total day charge        3333 non-null   float64\n",
      " 10  total eve minutes       3333 non-null   float64\n",
      " 11  total eve calls         3333 non-null   int64  \n",
      " 12  total eve charge        3333 non-null   float64\n",
      " 13  total night minutes     3333 non-null   float64\n",
      " 14  total night calls       3333 non-null   int64  \n",
      " 15  total night charge      3333 non-null   float64\n",
      " 16  total intl minutes      3333 non-null   float64\n",
      " 17  total intl calls        3333 non-null   int64  \n",
      " 18  total intl charge       3333 non-null   float64\n",
      " 19  customer service calls  3333 non-null   int64  \n",
      " 20  churn                   3333 non-null   bool   \n",
      "dtypes: bool(1), float64(8), int64(8), object(4)\n",
      "memory usage: 524.2+ KB\n"
     ]
    }
   ],
   "source": [
    "df.info()"
   ]
  },
  {
   "cell_type": "markdown",
   "metadata": {
    "id": "tfWfFRBnldrw"
   },
   "source": [
    "Se identifican los diferentes tipos de datos para cada una de las columnas, no se identifican datos nulos."
   ]
  },
  {
   "cell_type": "markdown",
   "metadata": {
    "id": "PIGXq-ijFgb4"
   },
   "source": [
    "**Análisis de Churn y Factores Relacionados**\n",
    "\n",
    "Calcula el porcentaje de clientes que han desertado (churn = 1).\n",
    "\n",
    "Identifica si los clientes con plan internacional (international plan) tienen mayor tasa de deserción.\n",
    "\n",
    "Identifica si los clientes con buzón de voz (voice mail plan) tienen menor tasa de deserción."
   ]
  },
  {
   "cell_type": "code",
   "execution_count": 21,
   "metadata": {
    "colab": {
     "base_uri": "https://localhost:8080/"
    },
    "executionInfo": {
     "elapsed": 193,
     "status": "ok",
     "timestamp": 1739906822034,
     "user": {
      "displayName": "Liany Villa Carpio",
      "userId": "04240967063737138547"
     },
     "user_tz": 300
    },
    "id": "3_TFqdwBwUD-",
    "outputId": "6f188aee-fa64-438e-cd2e-f846a2e42f0d"
   },
   "outputs": [
    {
     "name": "stdout",
     "output_type": "stream",
     "text": [
      "El porcentaje de clientes que desertaron es de 14.49 %\n"
     ]
    }
   ],
   "source": [
    "# Solución propuesta\n",
    "\n",
    "#Porcentaje de clientes que desertaron\n",
    "\n",
    "\n",
    "desertados = df[df[\"churn\"] == 1].shape[0]\n",
    "\n",
    "porcentaje = desertados/df.shape[0]*100\n",
    "print('El porcentaje de clientes que desertaron es de', round(porcentaje, 2), '%')"
   ]
  },
  {
   "cell_type": "code",
   "execution_count": 22,
   "metadata": {
    "colab": {
     "base_uri": "https://localhost:8080/"
    },
    "executionInfo": {
     "elapsed": 202,
     "status": "ok",
     "timestamp": 1739908835979,
     "user": {
      "displayName": "Liany Villa Carpio",
      "userId": "04240967063737138547"
     },
     "user_tz": 300
    },
    "id": "MtOOdmy1h08w",
    "outputId": "f9c5e552-ff4b-4e9f-bca6-1d6d5d1fed0b"
   },
   "outputs": [
    {
     "name": "stdout",
     "output_type": "stream",
     "text": [
      "El porcentaje de clientes con plan internacional que desertaron es de 42.41 %\n",
      "El porcentaje de clientes sin plan internacional que desertaron es de 11.5 %\n"
     ]
    }
   ],
   "source": [
    "\n",
    "\n",
    "#Calculamos la tasa de deserción de los clientes con plan internacional\n",
    "con_plan_internacional = df[df[\"international plan\"] == \"yes\"].shape[0]\n",
    "con_plan_desertado = df[(df[\"international plan\"] == \"yes\") & (df[\"churn\"] == 1)].shape[0]\n",
    "porcentaje_con_plan_desertado= con_plan_desertado/con_plan_internacional*100\n",
    "\n",
    "print('El porcentaje de clientes con plan internacional que desertaron es de', round(porcentaje_con_plan_desertado, 2), '%')\n",
    "\n",
    "\n",
    "#Calculamos la tasa de deserción de los clientes sin plan internacional\n",
    "sin_plan_internacional = df[df[\"international plan\"] == \"no\"].shape[0]\n",
    "sin_plan_desertado= df[(df[\"international plan\"] == \"no\") & (df[\"churn\"] == 1)].shape[0]\n",
    "porcentaje_sin_plan_desertado= sin_plan_desertado/sin_plan_internacional*100\n",
    "\n",
    "print('El porcentaje de clientes sin plan internacional que desertaron es de', round(porcentaje_sin_plan_desertado, 2), '%')\n",
    "\n",
    "\n",
    "\n"
   ]
  },
  {
   "cell_type": "markdown",
   "metadata": {
    "id": "xDt3f20coZ6e"
   },
   "source": [
    "Los clientes con plan internacional tienen una tasa de deserción del 42.4%, esto representa casi el doble de la la tasa de deserción de los clientes sin plan internacional, que fue del 11.5%"
   ]
  },
  {
   "cell_type": "code",
   "execution_count": 23,
   "metadata": {
    "colab": {
     "base_uri": "https://localhost:8080/"
    },
    "executionInfo": {
     "elapsed": 16,
     "status": "ok",
     "timestamp": 1739909145495,
     "user": {
      "displayName": "Liany Villa Carpio",
      "userId": "04240967063737138547"
     },
     "user_tz": 300
    },
    "id": "uOcl7ZWUpH0d",
    "outputId": "4e30a3d7-e2c7-4af3-d694-6b24df7dc956"
   },
   "outputs": [
    {
     "name": "stdout",
     "output_type": "stream",
     "text": [
      "El porcentaje de clientes con buzón de voz que desertaron es de 8.68 %\n",
      "El porcentaje de clientes sin buzón de voz que desertaron es de 1.67 %\n"
     ]
    }
   ],
   "source": [
    "#Calculamos el porcentaje de deserción de los clientes con vaice mail plan\n",
    "con_buzon = df[df[\"voice mail plan\"] == \"yes\"].shape[0]\n",
    "con_buzon_desertado = df[(df[\"voice mail plan\"] == \"yes\") & (df[\"churn\"] == 1)].shape[0]\n",
    "porcentaje_con_buzon_desertado= con_buzon_desertado/con_buzon*100\n",
    "print('El porcentaje de clientes con buzón de voz que desertaron es de', round(porcentaje_con_buzon_desertado, 2), '%')\n",
    "\n",
    "#Calculamos el porcentaje de deserción de los clientes sin voice mail plan\n",
    "sin_buzon = df[df[\"voice mail plan\"] == \"no\"].shape[0]\n",
    "sin_buzon_desertado = df[(df[\"voice mail plan\"] == \"no\") & (df[\"churn\"] == 1)].shape[0]\n",
    "porcentaje_sin_buzon_desertado= sin_buzon_desertado/sin_buzon*10\n",
    "print('El porcentaje de clientes sin buzón de voz que desertaron es de', round(porcentaje_sin_buzon_desertado, 2), '%')"
   ]
  },
  {
   "cell_type": "markdown",
   "metadata": {
    "id": "ou-lTe-Fq0TB"
   },
   "source": [
    "la tasa de deserción de clientes con buzón de voz, es mayor a la tasa de deserción de los clientes que no tienen servicio de buzón de voz."
   ]
  },
  {
   "cell_type": "markdown",
   "metadata": {
    "id": "yL8Y_juFFup7"
   },
   "source": [
    "**Análisis de la Duración del Servicio y Deserción**\n",
    "\n",
    "¿Cuál es la duración promedio de la cuenta (account length) entre clientes que desertaron y los que permanecen?\n",
    "\n",
    "¿Los clientes con cuentas más antiguas tienen más probabilidades de desertar?"
   ]
  },
  {
   "cell_type": "code",
   "execution_count": 24,
   "metadata": {
    "colab": {
     "base_uri": "https://localhost:8080/"
    },
    "executionInfo": {
     "elapsed": 11,
     "status": "ok",
     "timestamp": 1739910699902,
     "user": {
      "displayName": "Liany Villa Carpio",
      "userId": "04240967063737138547"
     },
     "user_tz": 300
    },
    "id": "7ViU0n6lGFao",
    "outputId": "e9ce09b6-9246-48ae-8a4d-8a30f75c57c1"
   },
   "outputs": [
    {
     "name": "stdout",
     "output_type": "stream",
     "text": [
      "La duración promedio de la cuenta de los clientes que desertaron es de 102.66\n",
      "La duración promedio de la cuenta de los clientes que no desertaron es de 100.79\n"
     ]
    }
   ],
   "source": [
    "# Solución propuesta\n",
    "\n",
    "#Duración promedio de la cuenta de los clientes que desertaron y los que no desertaron\n",
    "promedio_desertados = df[df[\"churn\"] == 1][\"account length\"].mean()\n",
    "promedio_no_desertados = df[df[\"churn\"] == 0][\"account length\"].mean()\n",
    "\n",
    "print('La duración promedio de la cuenta de los clientes que desertaron es de', round(promedio_desertados, 2))\n",
    "print('La duración promedio de la cuenta de los clientes que no desertaron es de', round(promedio_no_desertados, 2))"
   ]
  },
  {
   "cell_type": "markdown",
   "metadata": {
    "id": "5BjXNEQFy2me"
   },
   "source": [
    "Se evidencia una ligera diferencia en los promedios, que podría indicar que los clientes que cuentas más antiguas tienen mas probabilidad de desertar, pero no es una diferencia significativa, por lo que no es relevante."
   ]
  },
  {
   "cell_type": "markdown",
   "metadata": {
    "id": "vyaa82K0GF6B"
   },
   "source": [
    "**Relación entre Deserción y Uso del Servicio**\n",
    "\n",
    "Compara la cantidad de minutos usados en llamadas diurnas (total day minutes) entre clientes con y sin churn.\n",
    "\n",
    "Compara la cantidad de minutos usados en llamadas nocturnas (total night minutes).\n",
    "\n",
    "Compara el número total de llamadas (total day calls) entre clientes con y sin churn."
   ]
  },
  {
   "cell_type": "code",
   "execution_count": 25,
   "metadata": {
    "colab": {
     "base_uri": "https://localhost:8080/"
    },
    "executionInfo": {
     "elapsed": 47,
     "status": "ok",
     "timestamp": 1739912387604,
     "user": {
      "displayName": "Liany Villa Carpio",
      "userId": "04240967063737138547"
     },
     "user_tz": 300
    },
    "id": "d4aPKcv2GrpL",
    "outputId": "df681c73-b4fa-4544-f2bc-494c6b94fbb9"
   },
   "outputs": [
    {
     "name": "stdout",
     "output_type": "stream",
     "text": [
      "La cantidad de minutos usados en llamadas diurnas entre los clientes que desertaron es de 206.91\n",
      "La cantidad de minutos usados en llamadas diurnas entre los clientes que no desertaron es de 175.18\n"
     ]
    }
   ],
   "source": [
    "# Solución propuesta\n",
    "#Calcular la media de minutos usados durante la mañana en el grupo de clientes que ha desertado y los que no\n",
    "day_minutes_desertados = df[df[\"churn\"] == 1][\"total day minutes\"].mean()\n",
    "day_minutes_no_desertados = df[df[\"churn\"] == 0][\"total day minutes\"].mean()\n",
    "\n",
    "print('La cantidad de minutos usados en llamadas diurnas entre los clientes que desertaron es de', round(day_minutes_desertados, 2))\n",
    "print('La cantidad de minutos usados en llamadas diurnas entre los clientes que no desertaron es de', round(day_minutes_no_desertados, 2))\n",
    "\n"
   ]
  },
  {
   "cell_type": "code",
   "execution_count": 26,
   "metadata": {
    "colab": {
     "base_uri": "https://localhost:8080/"
    },
    "executionInfo": {
     "elapsed": 22,
     "status": "ok",
     "timestamp": 1739913583093,
     "user": {
      "displayName": "Liany Villa Carpio",
      "userId": "04240967063737138547"
     },
     "user_tz": 300
    },
    "id": "5qem_DM_4NpL",
    "outputId": "3c323279-6e9a-4577-fcd2-2c9ab8bf8e7a"
   },
   "outputs": [
    {
     "name": "stdout",
     "output_type": "stream",
     "text": [
      "La cantidad de minutos usados en llamadas nocturnas entre los clientes que desertaron es de 205.23\n",
      "La cantidad de minutos usados en llamadas nocturnas entre los clientes que no desertaron es de 200.13\n"
     ]
    }
   ],
   "source": [
    "\n",
    "#Calcular la media de minutos usados durante la noche\n",
    "night_minutes_desertados = df[df[\"churn\"] == 1][\"total night minutes\"].mean()\n",
    "night_minutes_no_desertados = df[df[\"churn\"] == 0][\"total night minutes\"].mean()\n",
    "\n",
    "print('La cantidad de minutos usados en llamadas nocturnas entre los clientes que desertaron es de', round(night_minutes_desertados, 2))\n",
    "print('La cantidad de minutos usados en llamadas nocturnas entre los clientes que no desertaron es de', round(night_minutes_no_desertados, 2))\n"
   ]
  },
  {
   "cell_type": "code",
   "execution_count": 27,
   "metadata": {
    "colab": {
     "base_uri": "https://localhost:8080/"
    },
    "executionInfo": {
     "elapsed": 49,
     "status": "ok",
     "timestamp": 1739916270990,
     "user": {
      "displayName": "Liany Villa Carpio",
      "userId": "04240967063737138547"
     },
     "user_tz": 300
    },
    "id": "-xGrP9MmFkAQ",
    "outputId": "90285bd9-73d4-4ab2-eee1-8f8c7a1529ea"
   },
   "outputs": [
    {
     "name": "stdout",
     "output_type": "stream",
     "text": [
      "El número de llamadas en total usadas  entre los clientes que desertaron es de 101.34\n",
      "El número de llamadas en total usadas entre los clientes que no desertaron es de 100.28\n"
     ]
    }
   ],
   "source": [
    "#Calcular la media del total de llamadas\n",
    "total_day_calls_desertados = df[df[\"churn\"] == 1][\"total day calls\"].mean()\n",
    "total_day_calls_no_desertados = df[df[\"churn\"] == 0][\"total day calls\"].mean()\n",
    "\n",
    "print('El número de llamadas en total usadas  entre los clientes que desertaron es de', round(total_day_calls_desertados, 2))\n",
    "print('El número de llamadas en total usadas entre los clientes que no desertaron es de', round(total_day_calls_no_desertados, 2))"
   ]
  },
  {
   "cell_type": "markdown",
   "metadata": {
    "id": "ccKOPRxQJgSW"
   },
   "source": [
    "los minutos usados en la noche y el número total de llamadas usadas, tienen una media muy parecida para las personas que desertaron de sus planes y los que no. Con respecto al total de minutos usados en llamadas diurnas, se observa una pequeña diferencia en las medias, las personas que desertaron tienen una media mas alta."
   ]
  },
  {
   "cell_type": "markdown",
   "metadata": {
    "id": "aKl9LnZgGsDT"
   },
   "source": [
    "**Impacto de las Llamadas al Servicio al Cliente en la Deserción**\n",
    "\n",
    "Calcula el número promedio de llamadas al servicio al cliente (customer service calls) entre clientes que desertaron y los que no.\n",
    "\n",
    "Divide los clientes en dos grupos:\n",
    "\n",
    "- Grupo 1: Clientes que llamaron más de 3 veces al servicio al cliente.\n",
    "- Grupo 2: Clientes que llamaron 3 veces o menos.\n",
    "Compara la tasa de churn entre ambos grupos."
   ]
  },
  {
   "cell_type": "code",
   "execution_count": 28,
   "metadata": {
    "colab": {
     "base_uri": "https://localhost:8080/"
    },
    "executionInfo": {
     "elapsed": 45,
     "status": "ok",
     "timestamp": 1739920542152,
     "user": {
      "displayName": "Liany Villa Carpio",
      "userId": "04240967063737138547"
     },
     "user_tz": 300
    },
    "id": "ac9qDXgrGz-M",
    "outputId": "bd36e378-daa6-47c6-a5d8-16caf92cfce0"
   },
   "outputs": [
    {
     "name": "stdout",
     "output_type": "stream",
     "text": [
      "El número promedio de llamadas al servicio al cliente entre los clientes que desertaron es de 2.23\n",
      "El número promedio de llamadas al servicio al cliente entre los clientes que no desertaron es de 1.45\n"
     ]
    }
   ],
   "source": [
    "# Solución propuesta\n",
    "\n",
    "#Se calcula el promedio de llamadas al servicio al cliente de los que desertaron y los que no.\n",
    "promedio_desertados = df[df[\"churn\"] == 1][\"customer service calls\"].mean()\n",
    "promedio_no_desertados = df[df[\"churn\"] == 0][\"customer service calls\"].mean()\n",
    "\n",
    "print('El número promedio de llamadas al servicio al cliente entre los clientes que desertaron es de', round(promedio_desertados, 2))\n",
    "print('El número promedio de llamadas al servicio al cliente entre los clientes que no desertaron es de', round(promedio_no_desertados, 2))"
   ]
  },
  {
   "cell_type": "code",
   "execution_count": 29,
   "metadata": {
    "colab": {
     "base_uri": "https://localhost:8080/"
    },
    "executionInfo": {
     "elapsed": 8,
     "status": "ok",
     "timestamp": 1739921072659,
     "user": {
      "displayName": "Liany Villa Carpio",
      "userId": "04240967063737138547"
     },
     "user_tz": 300
    },
    "id": "Y6KLybE_WJmz",
    "outputId": "f7f855c8-59ba-4756-839e-bf2b79931330"
   },
   "outputs": [
    {
     "name": "stdout",
     "output_type": "stream",
     "text": [
      "La tasa de deserción del grupo 1 es de 51.69 %\n",
      "La tasa de deserción del grupo 2 es de 11.25 %\n"
     ]
    }
   ],
   "source": [
    "#Se divide el set de datos en los dos grupos descritos anteriormente\n",
    "\n",
    "grupo1 = df[df[\"customer service calls\"] > 3]\n",
    "grupo2 = df[df[\"customer service calls\"] <= 3]\n",
    "\n",
    "#Se calcula tasa de deserción del grupo 1\n",
    "\n",
    "tasa_1 = grupo1[grupo1[\"churn\"] == 1].shape[0]/grupo1.shape[0]*100\n",
    "print('La tasa de deserción del grupo 1 es de', round(tasa_1, 2), '%')\n",
    "\n",
    "#se calcula la tasa de deserción del grupo 2\n",
    "\n",
    "tasa_2 = grupo2[grupo2[\"churn\"] == 1].shape[0]/grupo2.shape[0]*100\n",
    "print('La tasa de deserción del grupo 2 es de', round(tasa_2, 2), '%')"
   ]
  },
  {
   "cell_type": "markdown",
   "metadata": {
    "id": "uR-KmqwlYPyC"
   },
   "source": [
    "Se puede evidenciar que la tasa de deserción de las personas que llamaron más de 3 veces al servicio al cliente es significativamente más alta con respecto a la tasa de deserción de las personas que solo llamaron hasta 3 veces."
   ]
  },
  {
   "cell_type": "markdown",
   "metadata": {
    "id": "U7oTziiyG0Wb"
   },
   "source": [
    "**Análisis del Costo de las Llamadas y Churn**\n",
    "\n",
    "Compara el costo total de llamadas diurnas (total day charge) entre clientes con y sin churn.\n",
    "\n",
    "Compara el costo total de llamadas nocturnas (total night charge).\n",
    "\n",
    "¿Los clientes con mayor gasto en llamadas internacionales (total intl charge) tienen más probabilidades de desertar?"
   ]
  },
  {
   "cell_type": "code",
   "execution_count": 30,
   "metadata": {
    "colab": {
     "base_uri": "https://localhost:8080/"
    },
    "executionInfo": {
     "elapsed": 14,
     "status": "ok",
     "timestamp": 1739921430912,
     "user": {
      "displayName": "Liany Villa Carpio",
      "userId": "04240967063737138547"
     },
     "user_tz": 300
    },
    "id": "YWGmcLdoIYwx",
    "outputId": "f454d040-7824-4a9c-abc5-b59222a59b2b"
   },
   "outputs": [
    {
     "name": "stdout",
     "output_type": "stream",
     "text": [
      "El costo total de llamadas diurnas entre los clientes que desertaron es de 35.18\n",
      "El costo total de llamadas diurnas entre los clientes que no desertaron es de 29.78\n"
     ]
    }
   ],
   "source": [
    "# Solución propuesta\n",
    "\n",
    "#Se calcula el costo total de llamadas diurnas entre clientes que desertaron y los que no\n",
    "costo_total_day_charge_desertados = df[df[\"churn\"] == 1][\"total day charge\"].mean()\n",
    "costo_total_day_charge_no_desertados = df[df[\"churn\"] == 0][\"total day charge\"].mean()\n",
    "\n",
    "print('El costo total de llamadas diurnas entre los clientes que desertaron es de', round(costo_total_day_charge_desertados, 2))\n",
    "print('El costo total de llamadas diurnas entre los clientes que no desertaron es de', round(costo_total_day_charge_no_desertados, 2))\n",
    "\n"
   ]
  },
  {
   "cell_type": "markdown",
   "metadata": {
    "id": "R03jSu0ZaCwv"
   },
   "source": [
    "Se evidencia una media mas alta del costo total de llamadas diurnas para las personas que desertaron de sus planes."
   ]
  },
  {
   "cell_type": "code",
   "execution_count": 31,
   "metadata": {
    "colab": {
     "base_uri": "https://localhost:8080/"
    },
    "executionInfo": {
     "elapsed": 20,
     "status": "ok",
     "timestamp": 1739921964255,
     "user": {
      "displayName": "Liany Villa Carpio",
      "userId": "04240967063737138547"
     },
     "user_tz": 300
    },
    "id": "zK2G_0FCbB4m",
    "outputId": "abd2593a-f5d7-4168-8799-809646f17559"
   },
   "outputs": [
    {
     "name": "stdout",
     "output_type": "stream",
     "text": [
      "El costo total de llamadas nocturnas entre los clientes que desertaron es de 9.24\n",
      "El costo total de llamadas nocturnas entre los clientes que no desertaron es de 9.01\n"
     ]
    }
   ],
   "source": [
    "#Se calcula el costo total de llamadas nocturnas entr clientes que desertaron y los que no\n",
    "\n",
    "costo_total_night_charge_desertados = df[df[\"churn\"] == 1][\"total night charge\"].mean()\n",
    "costo_total_night_charge_no_desertados = df[df[\"churn\"] == 0][\"total night charge\"].mean()\n",
    "\n",
    "print('El costo total de llamadas nocturnas entre los clientes que desertaron es de', round(costo_total_night_charge_desertados, 2))\n",
    "print('El costo total de llamadas nocturnas entre los clientes que no desertaron es de', round(costo_total_night_charge_no_desertados, 2))\n"
   ]
  },
  {
   "cell_type": "markdown",
   "metadata": {
    "id": "3E94CKJmbz2L"
   },
   "source": [
    "No se evidencia una diferencia significativa del costo total de llamadas nocturnas, a diferencia de las llamadas diurnas."
   ]
  },
  {
   "cell_type": "code",
   "execution_count": 32,
   "metadata": {
    "colab": {
     "base_uri": "https://localhost:8080/"
    },
    "executionInfo": {
     "elapsed": 19,
     "status": "ok",
     "timestamp": 1739922429486,
     "user": {
      "displayName": "Liany Villa Carpio",
      "userId": "04240967063737138547"
     },
     "user_tz": 300
    },
    "id": "t6h6uxsSbzLQ",
    "outputId": "fb01246b-cad2-418c-e852-8c1caaf5070e"
   },
   "outputs": [
    {
     "name": "stdout",
     "output_type": "stream",
     "text": [
      "El costo total de llamadas internacionales entre los clientes que desertaron es de 2.89\n",
      "El costo total de llamadas internacionales entre los clientes que no desertaron es de 2.74\n"
     ]
    }
   ],
   "source": [
    "#Se calcula el gasto total en llamadas internacionales de los clientes que desertaron y los que no, para compararlos.\n",
    "\n",
    "costo_total_intl_charge_desertados = df[df[\"churn\"] == 1][\"total intl charge\"].mean()\n",
    "print('El costo total de llamadas internacionales entre los clientes que desertaron es de', round(costo_total_intl_charge_desertados, 2))\n",
    "\n",
    "costo_total_intl_charge_no_desertados = df[df[\"churn\"] == 0][\"total intl charge\"].mean()\n",
    "print('El costo total de llamadas internacionales entre los clientes que no desertaron es de', round(costo_total_intl_charge_no_desertados, 2))"
   ]
  },
  {
   "cell_type": "markdown",
   "metadata": {
    "id": "Sxf3RMo2dbl-"
   },
   "source": [
    "se evidencia que la media de costo total por llamadas internacionales es mayor para las personas que desertaron con respecto a las que no desertaron, pero no es una diferencia muy significativa."
   ]
  }
 ],
 "metadata": {
  "colab": {
   "provenance": []
  },
  "kernelspec": {
   "display_name": "Python 3",
   "name": "python3"
  },
  "language_info": {
   "codemirror_mode": {
    "name": "ipython",
    "version": 3
   },
   "file_extension": ".py",
   "mimetype": "text/x-python",
   "name": "python",
   "nbconvert_exporter": "python",
   "pygments_lexer": "ipython3",
   "version": "3.13.1"
  }
 },
 "nbformat": 4,
 "nbformat_minor": 0
}
